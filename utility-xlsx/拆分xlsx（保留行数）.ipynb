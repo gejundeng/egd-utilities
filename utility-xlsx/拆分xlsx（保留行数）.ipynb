{
 "cells": [
  {
   "cell_type": "code",
   "execution_count": null,
   "id": "4f0fb2d9-5850-4e4d-87a7-13129c50e2ff",
   "metadata": {
    "editable": true,
    "slideshow": {
     "slide_type": ""
    },
    "tags": []
   },
   "outputs": [],
   "source": [
    "import openpyxl\n",
    "import os\n",
    "\n",
    "def split_excel(input_file, output_folder, header_row, split_column):\n",
    "    try:\n",
    "        # Check if the output folder exists, if not, create it\n",
    "        if not os.path.exists(output_folder):\n",
    "            os.makedirs(output_folder)\n",
    "\n",
    "        # Load the Excel file\n",
    "        wb = openpyxl.load_workbook(input_file)\n",
    "        sheet = wb.active\n",
    "\n",
    "        # Collect header rows (from the first row up to and including the specified header row)\n",
    "        header_rows = [row for row in sheet.iter_rows(min_row=1, max_row=header_row, values_only=True)]\n",
    "\n",
    "        # Determine the split column index (0-based)\n",
    "        split_column_index = split_column - 1\n",
    "\n",
    "        # Use a set to store unique values in the split column\n",
    "        split_column_values = set()\n",
    "\n",
    "        # Collect unique values from the split column starting from the row after header\n",
    "        for row in sheet.iter_rows(min_row=header_row+1):\n",
    "            split_column_values.add(row[split_column_index].value)\n",
    "\n",
    "        # Split and save each subset of data based on unique values in the split column\n",
    "        for value in split_column_values:\n",
    "            filename = f\"{output_folder}/split_{value}.xlsx\"\n",
    "            print(\"Generating file:\", filename)\n",
    "\n",
    "            # Create a new Workbook for each unique value\n",
    "            wb_new = openpyxl.Workbook()\n",
    "            sheet_new = wb_new.active\n",
    "            sheet_new.title = \"Sheet1\"\n",
    "\n",
    "            # Write all header rows exactly as specified\n",
    "            for row_idx, row_values in enumerate(header_rows, start=1):\n",
    "                for col_idx, cell_value in enumerate(row_values, start=1):\n",
    "                    sheet_new.cell(row=row_idx, column=col_idx, value=cell_value)\n",
    "\n",
    "            # Write rows that match the split column value\n",
    "            row_new = header_row + 1  # Start writing from the row after the header rows\n",
    "            for row in sheet.iter_rows(min_row=header_row+1):\n",
    "                if row[split_column_index].value == value:\n",
    "                    for col_idx, cell in enumerate(row, start=1):\n",
    "                        sheet_new.cell(row=row_new, column=col_idx, value=cell.value)\n",
    "                    row_new += 1\n",
    "\n",
    "            # Save the split file\n",
    "            wb_new.save(filename)\n",
    "            print(\"File saved:\", filename)\n",
    "\n",
    "        print(\"All files split successfully.\")\n",
    "\n",
    "    except Exception as e:\n",
    "        print(f\"An error occurred: {e}\")\n",
    "\n",
    "# Example usage\n",
    "input_file = r'/Users/gejundeng/Desktop/xxxxx.xlsx'   # Input file path\n",
    "output_folder = r'/Users/gejundeng/Desktop/拆分文件夹'                  # Output folder path\n",
    "header_row = 2                                             # Header row (1-based index)\n",
    "split_column = 2                                           # Split column (1-based index)\n",
    "\n",
    "# Call the function\n",
    "split_excel(input_file, output_folder, header_row, split_column)"
   ]
  },
  {
   "cell_type": "code",
   "execution_count": null,
   "id": "346041e2-10f3-4062-b485-fb74b40785f5",
   "metadata": {},
   "outputs": [],
   "source": []
  }
 ],
 "metadata": {
  "kernelspec": {
   "display_name": "Python 3 (ipykernel)",
   "language": "python",
   "name": "python3"
  },
  "language_info": {
   "codemirror_mode": {
    "name": "ipython",
    "version": 3
   },
   "file_extension": ".py",
   "mimetype": "text/x-python",
   "name": "python",
   "nbconvert_exporter": "python",
   "pygments_lexer": "ipython3",
   "version": "3.12.7"
  }
 },
 "nbformat": 4,
 "nbformat_minor": 5
}
